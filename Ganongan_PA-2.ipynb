{
 "cells": [
  {
   "cell_type": "markdown",
   "id": "1baab7d5-5110-4855-9113-21be8f4a186d",
   "metadata": {},
   "source": [
    "## Normalization Problem"
   ]
  },
  {
   "cell_type": "code",
   "execution_count": 40,
   "id": "4dd87008-8e06-4728-a939-e0b260df9186",
   "metadata": {},
   "outputs": [
    {
     "name": "stdout",
     "output_type": "stream",
     "text": [
      "Original Value: \n",
      " [[0.24571014 0.58214871 0.69121124 0.42748001 0.06073605]\n",
      " [0.5523521  0.40589269 0.93307028 0.75329159 0.27531718]\n",
      " [0.76066187 0.18454118 0.75311866 0.56060821 0.16599602]\n",
      " [0.35634079 0.73513495 0.70388063 0.97526841 0.67346679]\n",
      " [0.81760001 0.04888914 0.05131004 0.82144206 0.99589248]] \n",
      " Normalized Value: \n",
      " [[-1.00719472  0.13936483  0.51104244 -0.38773546 -1.6375737 ]\n",
      " [ 0.03782004 -0.46130357  1.33528144  0.72260801 -0.90629593]\n",
      " [ 0.74772541 -1.21565431  0.72201866  0.06595629 -1.27885495]\n",
      " [-0.63017305  0.66073143  0.55421886  1.47908976  0.45057056]\n",
      " [ 0.94176669 -1.67794715 -1.66969688  0.95486012  1.54937517]]\n"
     ]
    }
   ],
   "source": [
    "#Use to Import numerical python Library\n",
    "import numpy as np\n",
    "#Create the randon 5x5 array:\n",
    "X = np. random. rand(5, 5)\n",
    "#Formula for the Noralized Values\n",
    "Z = (X - X.mean()) /X.std() \n",
    "#save Normalized values as X_nomatized. ny\n",
    "np. save(\"X_normalized.npy\", Z) \n",
    "#Publish the original value of \"Z\" along with the original value of \"X\"\n",
    "print (\"Original Value: \\n\", X, \"\\n Normalized Value: \\n\", Z) \n",
    "#end\n"
   ]
  },
  {
   "cell_type": "markdown",
   "id": "51c1bd8b-1b88-452b-87d4-3c0f3a74b2bc",
   "metadata": {},
   "source": [
    "## Division By 3 Problem"
   ]
  },
  {
   "cell_type": "code",
   "execution_count": 42,
   "id": "26ae5fee-c642-4a67-9ef4-a8723a89041e",
   "metadata": {},
   "outputs": [
    {
     "data": {
      "text/plain": [
       "array([[  1,   2,   3,   4,   5,   6,   7,   8,   9,  10],\n",
       "       [ 11,  12,  13,  14,  15,  16,  17,  18,  19,  20],\n",
       "       [ 21,  22,  23,  24,  25,  26,  27,  28,  29,  30],\n",
       "       [ 31,  32,  33,  34,  35,  36,  37,  38,  39,  40],\n",
       "       [ 41,  42,  43,  44,  45,  46,  47,  48,  49,  50],\n",
       "       [ 51,  52,  53,  54,  55,  56,  57,  58,  59,  60],\n",
       "       [ 61,  62,  63,  64,  65,  66,  67,  68,  69,  70],\n",
       "       [ 71,  72,  73,  74,  75,  76,  77,  78,  79,  80],\n",
       "       [ 81,  82,  83,  84,  85,  86,  87,  88,  89,  90],\n",
       "       [ 91,  92,  93,  94,  95,  96,  97,  98,  99, 100]])"
      ]
     },
     "execution_count": 42,
     "metadata": {},
     "output_type": "execute_result"
    }
   ],
   "source": [
    "#Use to Import numerical python Library\n",
    "import numpy as np\n",
    "#Make an array with the first 100 positive numbers in it\n",
    "A = np.array(np.arange (1,101,1))\n",
    "#Make the array 10 by 10 in size\n",
    "A. resize (10,10)\n",
    "#creates a new array and squares each entry on its own\n",
    "Squared_A = np. square (A)\n",
    "#saves each Squared A element that is divisible by 3\n",
    "Div_by_3 = Squared_A[A&3==0]\n",
    "#Put an array in 'div_by_3.npy*' that has entries that can be divided by 3\n",
    "np.save ('div_by_3.npy', Div_by_3)\n",
    "#end\n",
    "A"
   ]
  }
 ],
 "metadata": {
  "kernelspec": {
   "display_name": "Python 3 (ipykernel)",
   "language": "python",
   "name": "python3"
  },
  "language_info": {
   "codemirror_mode": {
    "name": "ipython",
    "version": 3
   },
   "file_extension": ".py",
   "mimetype": "text/x-python",
   "name": "python",
   "nbconvert_exporter": "python",
   "pygments_lexer": "ipython3",
   "version": "3.12.4"
  }
 },
 "nbformat": 4,
 "nbformat_minor": 5
}
